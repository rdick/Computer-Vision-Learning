{
 "cells": [
  {
   "cell_type": "code",
   "execution_count": null,
   "id": "18191d63-a7e9-48a9-9276-fda4b2412a1f",
   "metadata": {},
   "outputs": [],
   "source": [
    "import cv2\n",
    "\n",
    "cap = cv2.VideoCapture(0)\n",
    "\n",
    "width = int(cap.get(cv2.CAP_PROP_FRAME_WIDTH))\n",
    "height = int(cap.get(cv2.CAP_PROP_FRAME_HEIGHT))\n",
    "\n",
    "# TOP LEFT CORNER\n",
    "x = width // 2\n",
    "y = height // 2\n",
    "\n",
    "# WIDTH AND HEIGHT OF RECTANGLE\n",
    "w = width // 4\n",
    "h = height // 4\n",
    "\n",
    "while True\n",
    "\n",
    "    ret, frame = cap.read()\n",
    "    \n",
    "    cv2.rectangle(frame,(x,y), (x+w, y+h))\n",
    "    \n",
    "    cv2.imshow('frame',frame)\n",
    "    \n",
    "    if cv2.waitKey(1) & 0xFF == ord('q')\n",
    "        break\n",
    "        \n",
    "cap.release()\n",
    "cv2.destroyAllWindows()"
   ]
  }
 ],
 "metadata": {
  "kernelspec": {
   "display_name": "Python 3 (ipykernel)",
   "language": "python",
   "name": "python3"
  },
  "language_info": {
   "codemirror_mode": {
    "name": "ipython",
    "version": 3
   },
   "file_extension": ".py",
   "mimetype": "text/x-python",
   "name": "python",
   "nbconvert_exporter": "python",
   "pygments_lexer": "ipython3",
   "version": "3.10.1"
  }
 },
 "nbformat": 4,
 "nbformat_minor": 5
}
