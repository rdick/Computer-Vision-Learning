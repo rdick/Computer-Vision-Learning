{
 "cells": [
  {
   "cell_type": "code",
   "execution_count": 1,
   "id": "c680ada8-67f0-41d4-b6f0-f56846857761",
   "metadata": {},
   "outputs": [],
   "source": []
  },
  {
   "cell_type": "code",
   "execution_count": null,
   "id": "88427ad9-43c1-4c7b-9292-5e842a25a48a",
   "metadata": {},
   "outputs": [],
   "source": [
    "import cv2\n",
    "import numpy as np\n",
    "\n",
    "# VARIABLES\n",
    "\n",
    "# True while mouse DOWN, False while mouse button UP\n",
    "\n",
    "draw_current = False\n",
    "ix, iy= -1,-1\n",
    "\n",
    "# FUNCTION\n",
    "def draw_rectangle(event,x,y,flags,params):\n",
    "    global ix, iy, draw_current\n",
    "    \n",
    "    if event == cv2.EVENT_LBUTTONDOWN:\n",
    "        ix, iy = x, y\n",
    "        draw_current = True\n",
    "        \n",
    "    elif event == cv2.EVENT_MOUSEMOVE:\n",
    "        if draw_current == True:\n",
    "            cv2.rectangle(img, (ix, iy), (x,y), (255,255,255), -1)\n",
    "            \n",
    "    elif event == cv2.EVENT_LBUTTONUP:\n",
    "        draw_current = False\n",
    "        cv2.rectangle(img, (ix, iy), (x,y), (255,255,255), -1)\n",
    "\n",
    "# SHOWING THE IMAGE\n",
    "\n",
    "# BLANK\n",
    "\n",
    "img = np.zeros((512,512,3))\n",
    "\n",
    "cv2.namedWindow('my_drawing')\n",
    "\n",
    "cv2.setMouseCallback('my_drawing',draw_rectangle)\n",
    "\n",
    "while True:\n",
    "    \n",
    "    cv2.imshow('my_drawing',img)\n",
    " \n",
    "    #CHECKS FOR ESC KEY\n",
    "    if cv2.waitKey(1) & 0xFF == 27:\n",
    "        break\n",
    "        \n",
    "cv2.destroyAllWindows()"
   ]
  },
  {
   "cell_type": "code",
   "execution_count": null,
   "id": "02ba2b83-460f-436f-86aa-8e4c9e1f1458",
   "metadata": {},
   "outputs": [],
   "source": []
  }
 ],
 "metadata": {
  "kernelspec": {
   "display_name": "Python 3 (ipykernel)",
   "language": "python",
   "name": "python3"
  },
  "language_info": {
   "codemirror_mode": {
    "name": "ipython",
    "version": 3
   },
   "file_extension": ".py",
   "mimetype": "text/x-python",
   "name": "python",
   "nbconvert_exporter": "python",
   "pygments_lexer": "ipython3",
   "version": "3.10.1"
  }
 },
 "nbformat": 4,
 "nbformat_minor": 5
}
