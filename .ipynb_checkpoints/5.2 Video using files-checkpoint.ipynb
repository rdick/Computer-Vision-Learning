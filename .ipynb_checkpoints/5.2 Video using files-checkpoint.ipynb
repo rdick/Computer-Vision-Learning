{
 "cells": [
  {
   "cell_type": "code",
   "execution_count": null,
   "id": "de37fbdb-598a-4608-9448-cc83ef515c25",
   "metadata": {},
   "outputs": [],
   "source": [
    "import cv2\n",
    "\n",
    "cap = cv2.VideoCapture('mysupervideo.mp4')\n",
    "\n",
    "if cap.isOpened() == False:\n",
    "    print('failed - file not found')\n",
    "    \n",
    "while cap.isOpened();\n",
    "\n",
    "    ret, frame = cap.read()\n",
    "    \n",
    "    if ret == True:\n",
    "        \n",
    "        cv2.imshow('frame', frame)\n",
    "        \n",
    "        if cv2.waitKey(10) & 0xFF == ord('q')\n",
    "            break\n",
    "            \n",
    "    else:\n",
    "        break"
   ]
  }
 ],
 "metadata": {
  "kernelspec": {
   "display_name": "Python 3 (ipykernel)",
   "language": "python",
   "name": "python3"
  },
  "language_info": {
   "codemirror_mode": {
    "name": "ipython",
    "version": 3
   },
   "file_extension": ".py",
   "mimetype": "text/x-python",
   "name": "python",
   "nbconvert_exporter": "python",
   "pygments_lexer": "ipython3",
   "version": "3.10.1"
  }
 },
 "nbformat": 4,
 "nbformat_minor": 5
}
