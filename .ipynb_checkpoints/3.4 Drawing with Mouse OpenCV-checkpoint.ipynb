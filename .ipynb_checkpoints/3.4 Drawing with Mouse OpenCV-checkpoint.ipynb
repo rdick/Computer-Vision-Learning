{
 "cells": [
  {
   "cell_type": "code",
   "execution_count": 4,
   "id": "fbd52ca2-5961-44d7-a6aa-14b955858864",
   "metadata": {},
   "outputs": [],
   "source": [
    "### Check Python .py file and run it from there\n",
    "\n",
    "import cv2\n",
    "import numpy as np\n",
    "\n",
    "\n",
    "############\n",
    "# Function #\n",
    "############\n",
    "\n",
    "def draw_circle(event,x,y,flags,params):\n",
    "    \n",
    "    \n",
    "    if event == cv2.EVENT_LBUTTONDOWN:\n",
    "        cv2.circle(img, (x,y),100, (0,255,0), -1)\n",
    "    elif event == cv2.EVENT_RBUTTONDOWN:\n",
    "        cv2.circle(img, (x,y),100, (0,0,255), -1)\n",
    "        \n",
    "cv2.namedWindow(winname='my_drawing')\n",
    "\n",
    "cv2.setMouseCallback('my_drawing',draw_circle)\n",
    "\n",
    "#############################\n",
    "# Showing Image with OPENCV #\n",
    "#############################\n",
    "\n",
    "img = np.zeros((512,512,3),np.int8)\n",
    "\n",
    "while True:\n",
    "    \n",
    "    cv2.imshow('my_drawing',img)\n",
    "    \n",
    "    if cv2.waitKey(1) & 0xFF == 27:\n",
    "        break\n",
    "        \n",
    "cv2.destroyAllWindows()"
   ]
  },
  {
   "cell_type": "code",
   "execution_count": null,
   "id": "2ae54328-6a19-4ff3-b790-70f1aea4a5db",
   "metadata": {},
   "outputs": [],
   "source": []
  }
 ],
 "metadata": {
  "kernelspec": {
   "display_name": "Python 3 (ipykernel)",
   "language": "python",
   "name": "python3"
  },
  "language_info": {
   "codemirror_mode": {
    "name": "ipython",
    "version": 3
   },
   "file_extension": ".py",
   "mimetype": "text/x-python",
   "name": "python",
   "nbconvert_exporter": "python",
   "pygments_lexer": "ipython3",
   "version": "3.10.1"
  }
 },
 "nbformat": 4,
 "nbformat_minor": 5
}
